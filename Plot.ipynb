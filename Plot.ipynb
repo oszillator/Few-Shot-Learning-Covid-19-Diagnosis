{
 "cells": [
  {
   "cell_type": "code",
   "execution_count": null,
   "metadata": {
    "ExecuteTime": {
     "end_time": "2021-01-06T10:41:45.936231Z",
     "start_time": "2021-01-06T10:41:44.106768Z"
    }
   },
   "outputs": [],
   "source": [
    "import numpy as np\n",
    "import pandas as pd\n",
    "import matplotlib.pyplot as plt"
   ]
  },
  {
   "cell_type": "code",
   "execution_count": null,
   "metadata": {
    "ExecuteTime": {
     "end_time": "2021-01-06T10:41:45.952287Z",
     "start_time": "2021-01-06T10:41:45.938229Z"
    }
   },
   "outputs": [],
   "source": [
    "filepath = \"ppp.csv\"\n",
    "log = pd.read_csv(filepath)"
   ]
  },
  {
   "cell_type": "code",
   "execution_count": null,
   "metadata": {
    "ExecuteTime": {
     "end_time": "2021-01-06T10:41:45.968386Z",
     "start_time": "2021-01-06T10:41:45.959268Z"
    }
   },
   "outputs": [],
   "source": [
    "accuracy = log.loc[:][\"accuracy\"]\n",
    "precision = log.loc[:][\"precision\"]\n",
    "recall = log.loc[:][\"recall\"]\n",
    "f1 = log.loc[:][\"f1\"]"
   ]
  },
  {
   "cell_type": "code",
   "execution_count": null,
   "metadata": {
    "ExecuteTime": {
     "end_time": "2021-01-06T10:40:28.974909Z",
     "start_time": "2021-01-06T10:40:28.947948Z"
    }
   },
   "outputs": [],
   "source": [
    "%matplotlib inline\n",
    "%config InlineBackend.figure_format = 'svg'"
   ]
  },
  {
   "cell_type": "code",
   "execution_count": null,
   "metadata": {
    "ExecuteTime": {
     "end_time": "2021-01-06T10:42:17.751710Z",
     "start_time": "2021-01-06T10:42:17.257788Z"
    }
   },
   "outputs": [],
   "source": [
    "plt.figure(figsize=(15, 5))\n",
    "plt.plot(range(1, 101), accuracy, c=\"tomato\")\n",
    "plt.plot(range(1, 101), precision*100, c=\"gold\")\n",
    "plt.plot(range(1, 101), recall*100, c=\"steelblue\")\n",
    "plt.plot(range(1, 101), f1*100, c=\"lightgreen\")\n",
    "plt.yticks([_ for _ in range(30, 105, 5)])\n",
    "plt.grid(axis='x', which='major',)\n",
    "plt.grid(ls=\"--\")\n",
    "plt.xlabel(\"Epochs\")\n",
    "plt.ylabel(\"Indicators/%\")\n",
    "plt.title(\"Before Data Augmentation\")\n",
    "plt.legend([\"Accuracy\", \"Precision\", \"Recall\", \"F1\"])\n",
    "plt.savefig('resnet_accuracy.eps', bbox_inches='tight')\n",
    "plt.show()"
   ]
  }
 ],
 "metadata": {
  "kernelspec": {
   "display_name": "Python 3",
   "language": "python",
   "name": "python3"
  },
  "language_info": {
   "codemirror_mode": {
    "name": "ipython",
    "version": 3
   },
   "file_extension": ".py",
   "mimetype": "text/x-python",
   "name": "python",
   "nbconvert_exporter": "python",
   "pygments_lexer": "ipython3",
   "version": "3.8.6"
  }
 },
 "nbformat": 4,
 "nbformat_minor": 4
}
